{
 "cells": [
  {
   "cell_type": "code",
   "execution_count": 2,
   "id": "80e7c8e5-7802-4d7a-9e13-a61cc7802be7",
   "metadata": {},
   "outputs": [
    {
     "name": "stdout",
     "output_type": "stream",
     "text": [
      "Collecting mysql-connector-python\n",
      "  Using cached mysql_connector_python-9.2.0-cp312-cp312-win_amd64.whl.metadata (6.2 kB)\n",
      "Using cached mysql_connector_python-9.2.0-cp312-cp312-win_amd64.whl (16.1 MB)\n",
      "Installing collected packages: mysql-connector-python\n",
      "Successfully installed mysql-connector-python-9.2.0\n",
      "Note: you may need to restart the kernel to use updated packages.\n"
     ]
    }
   ],
   "source": [
    "pip install mysql-connector-python"
   ]
  },
  {
   "cell_type": "code",
   "execution_count": 5,
   "id": "6ab1158a-bcfe-4e4a-b128-d6ca7681244b",
   "metadata": {},
   "outputs": [
    {
     "name": "stdout",
     "output_type": "stream",
     "text": [
      "Table created successfully!\n",
      "Error connecting to MySQL: 1062 (23000): Duplicate entry '1' for key 'edu_student.PRIMARY'\n",
      "Connection Closed\n"
     ]
    }
   ],
   "source": [
    "import mysql.connector\n",
    "connection=None\n",
    "try:\n",
    "    connection=mysql.connector.connect(\n",
    "        host=\"localhost\",\n",
    "        user=\"root\",\n",
    "        password=\"nsti\",\n",
    "        database=\"Data\"\n",
    "    )\n",
    "    cursor=connection.cursor()\n",
    "    # cursor.execute(\"create database Data\")\n",
    "    # cursor.execute(\"use Data\")\n",
    "    Query=\"\"\"\n",
    "    create table edu_student(\n",
    "    StudentID int primary key,\n",
    "    StudentName varchar(200),\n",
    "    DataOFBirth date\n",
    "    )\n",
    "    \"\"\"\n",
    "    #cursor.execute(Query)\n",
    "    print(\"Table created successfully!\")\n",
    "    # Inserting data into edu_students\n",
    "    insert = \"\"\"\n",
    "    INSERT INTO edu_student (StudentID, StudentName, DataOfBirth) \n",
    "    VALUES (%s,%s,%s)\n",
    "    \"\"\"\n",
    "    VALUES=[\n",
    "        (1, 'Amit', '2002-05-15'),\n",
    "        (2, 'Pooja', '2003-07-09'),\n",
    "        (3, 'Neha', '2007-05-12'),\n",
    "        (4, 'Rohit', '2010-09-08')\n",
    "        ]\n",
    "    # Execute the query\n",
    "    cursor.executemany(insert,VALUES)\n",
    "    connection.commit()\n",
    "    print(\"Data inserted successfully!\")\n",
    "except mysql.connector.Error as e:\n",
    "    print(f\"Error connecting to MySQL: {e}\")\n",
    "finally:\n",
    "    if connection and connection.is_connected():\n",
    "        connection.close()\n",
    "        print(\"Connection Closed\")\n",
    "\n",
    "\n",
    "    "
   ]
  },
  {
   "cell_type": "code",
   "execution_count": 13,
   "id": "ba757429-ff73-4c60-b8b6-1f4e5821bdac",
   "metadata": {},
   "outputs": [
    {
     "name": "stdout",
     "output_type": "stream",
     "text": [
      "(1, 'Amit', datetime.date(2002, 5, 15))\n",
      "(2, 'Pooja', datetime.date(2003, 7, 9))\n",
      "(3, 'Neha', datetime.date(2007, 5, 12))\n",
      "(4, 'Rohit', datetime.date(2010, 9, 8))\n"
     ]
    }
   ],
   "source": [
    "import mysql.connector\n",
    "connection=mysql.connector.connect(\n",
    "        host=\"localhost\",\n",
    "        user=\"root\",\n",
    "        password=\"nsti\",\n",
    "        database=\"Data\"\n",
    "    )\n",
    "cursor=connection.cursor()\n",
    "#View records of the table\n",
    "cursor.execute('SELECT * FROM edu_student')\n",
    "result=cursor.fetchall()\n",
    "for row in result:\n",
    "    print(row)"
   ]
  },
  {
   "cell_type": "code",
   "execution_count": 3,
   "id": "1ba7edee-23f2-4147-946d-299359ac9ee4",
   "metadata": {},
   "outputs": [
    {
     "name": "stdout",
     "output_type": "stream",
     "text": [
      "Rows Affected: 0\n"
     ]
    }
   ],
   "source": [
    "import mysql.connector\n",
    "connection=mysql.connector.connect(\n",
    "        host=\"localhost\",\n",
    "        user=\"root\",\n",
    "        password=\"nsti\",\n",
    "        database=\"Data\"\n",
    "    )\n",
    "cursor=connection.cursor()\n",
    "\n",
    "update = '''\n",
    "UPDATE edu_student \n",
    "SET StudentName = %s, DataOfBirth = %s \n",
    "WHERE StudentID = %s\n",
    "'''\n",
    "\n",
    "values = [\n",
    "    ('Priyanshi', \"2025-02-12\", 5),\n",
    "    ('Aditya', \"2023-05-25\", 6),\n",
    "    ('Sahil', \"2024-03-24\", 7)\n",
    "]\n",
    "\n",
    "cursor.executemany(update, values)\n",
    "connection.commit()\n",
    "print('Rows Affected:', cursor.rowcount)\n"
   ]
  },
  {
   "cell_type": "code",
   "execution_count": 4,
   "id": "2e629edc-5a36-4dcb-8c13-2fe305bb854e",
   "metadata": {},
   "outputs": [
    {
     "name": "stdout",
     "output_type": "stream",
     "text": [
      "Data deleted successfully!\n"
     ]
    }
   ],
   "source": [
    "delete = '''\n",
    "delete from edu_student WHERE StudentID = 5\n",
    "'''\n",
    "cursor.execute(delete)\n",
    "connection.commit()\n",
    "print(\"Data deleted successfully!\")"
   ]
  },
  {
   "cell_type": "code",
   "execution_count": 10,
   "id": "1794c290-b894-4ddc-b846-3f30016fa95c",
   "metadata": {},
   "outputs": [
    {
     "name": "stdout",
     "output_type": "stream",
     "text": [
      "Table created successfully!\n",
      "Transaction Committed Successfully!\n",
      "Connection Closed!\n"
     ]
    }
   ],
   "source": [
    "# Handle Transaction\n",
    "import mysql.connector\n",
    "\n",
    "# Establish database connection\n",
    "connection = mysql.connector.connect(\n",
    "    host=\"localhost\",\n",
    "    user=\"root\",\n",
    "    password=\"nsti\",\n",
    "    database=\"Data\"\n",
    ")\n",
    "cursor = connection.cursor()\n",
    "Query=\"\"\"\n",
    "    create table students(FirstName varchar(100),\n",
    "    LastName varchar(100), \n",
    "    Year int\n",
    "    )\n",
    "    \"\"\"\n",
    "cursor.execute(Query)\n",
    "print(\"Table created successfully!\")\n",
    "\n",
    "# Define the insert query\n",
    "insert_query = '''\n",
    "    INSERT INTO students (FirstName, LastName, Year) \n",
    "    VALUES (%s, %s, %s)\n",
    "'''\n",
    "\n",
    "try:\n",
    "    # Start transaction\n",
    "    connection.start_transaction()\n",
    "    \n",
    "    # Data to insert\n",
    "    transaction = [\n",
    "        ('Neha', 'Shakya', 2025),\n",
    "        ('Jyoti', 'Kumari', 2024)\n",
    "    ]\n",
    "    \n",
    "    # Execute query\n",
    "    cursor.executemany(insert_query, transaction)\n",
    "    \n",
    "    # Commit transaction\n",
    "    connection.commit()\n",
    "    print('Transaction Committed Successfully!')\n",
    "\n",
    "except mysql.connector.Error as e:\n",
    "    # Rollback transaction in case of failure\n",
    "    connection.rollback()\n",
    "    print(\"Transaction Failed and Rolled Back!\", e)\n",
    "\n",
    "finally:\n",
    "    # Close the cursor and connection\n",
    "    if connection.is_connected():\n",
    "        cursor.close()\n",
    "        connection.close()\n",
    "        print('Connection Closed!')\n",
    "\n"
   ]
  },
  {
   "cell_type": "code",
   "execution_count": null,
   "id": "396c25ee-d0cc-4da7-9b6c-1ce60921d9e0",
   "metadata": {},
   "outputs": [],
   "source": []
  },
  {
   "cell_type": "code",
   "execution_count": null,
   "id": "8819e52a-912a-4e6b-988f-2a884d88f2ff",
   "metadata": {},
   "outputs": [],
   "source": []
  }
 ],
 "metadata": {
  "kernelspec": {
   "display_name": "Python 3 (ipykernel)",
   "language": "python",
   "name": "python3"
  },
  "language_info": {
   "codemirror_mode": {
    "name": "ipython",
    "version": 3
   },
   "file_extension": ".py",
   "mimetype": "text/x-python",
   "name": "python",
   "nbconvert_exporter": "python",
   "pygments_lexer": "ipython3",
   "version": "3.12.7"
  }
 },
 "nbformat": 4,
 "nbformat_minor": 5
}
